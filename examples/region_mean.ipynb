{
 "cells": [
  {
   "cell_type": "code",
   "execution_count": 1,
   "metadata": {},
   "outputs": [],
   "source": [
    "import numpy as np\n",
    "import sys, os\n",
    "import matplotlib.pyplot as plt\n",
    "\n",
    "sys.path.append(\"..\")\n",
    "from qgbaroclinic import OceBaroclinicModes"
   ]
  },
  {
   "cell_type": "code",
   "execution_count": null,
   "metadata": {},
   "outputs": [],
   "source": [
    "\"\"\"\n",
    "Example for computing the MEAN baroclinic modes and rossby radii of a selected region\n",
    "\"\"\""
   ]
  },
  {
   "cell_type": "code",
   "execution_count": null,
   "metadata": {},
   "outputs": [],
   "source": [
    "# Define Ocean Baroclinic Modes object\n",
    "obm = OceBaroclinicModes(x=[-160, -170], y=[40, 45])"
   ]
  },
  {
   "cell_type": "code",
   "execution_count": null,
   "metadata": {},
   "outputs": [],
   "source": [
    "# Extract OCEAN variables form NetCDF file.\n",
    "# NOTE: \"latitude\", \"longitude\" are the dimension names in NetCDF file.\n",
    "current_path = os.path.dirname(__vsc_ipynb_file__)\n",
    "temp, sal, depth, lat = obm.read(\n",
    "    os.path.join(current_path, \"../data/reanalysis/\"),\n",
    "    \"thetao\",\n",
    "    \"so\",\n",
    "    \"depth\",\n",
    "    \"latitude\",\n",
    "    longitude=obm.domain[\"x\"],\n",
    "    latitude=obm.domain[\"y\"],\n",
    ")\n",
    "mean_lat = np.mean(lat.values)"
   ]
  },
  {
   "cell_type": "code",
   "execution_count": null,
   "metadata": {},
   "outputs": [],
   "source": [
    "# Extract Bathymetry dataset and compute mean reagion depth\n",
    "# NOTE: \"lat\", \"lon\" are the dimension names in NetCDF file.\n",
    "elevation = obm.read(\n",
    "    os.path.join(current_path, \"../data/bathymetry/GEBCO_2023.nc\"),\n",
    "    \"elevation\",\n",
    "    lat=obm.domain[\"y\"],\n",
    "    lon=obm.domain[\"x\"],\n",
    ")\n",
    "mean_depth = np.abs(np.nanmean(elevation))"
   ]
  },
  {
   "cell_type": "code",
   "execution_count": null,
   "metadata": {},
   "outputs": [],
   "source": [
    "print(f\"Region mean depth {mean_depth} m, region mean lat {mean_lat} °N\")"
   ]
  },
  {
   "cell_type": "code",
   "execution_count": null,
   "metadata": {},
   "outputs": [],
   "source": [
    "# Compute pot density (you should use potential temperature!)\n",
    "pot_density = obm.potential_density(temp, sal)\n",
    "mean_pot_density = np.nanmean(pot_density, axis = (0,2,3))"
   ]
  },
  {
   "cell_type": "code",
   "execution_count": 13,
   "metadata": {},
   "outputs": [],
   "source": [
    "obm(mean_pot_density, depth.values, mean_lat, mean_depth)"
   ]
  },
  {
   "cell_type": "code",
   "execution_count": null,
   "metadata": {},
   "outputs": [],
   "source": [
    "# The output result is stored as attributes\n",
    "rossby_rad = obm.rossby_rad\n",
    "vert_structfunc = obm.vert_structfunc"
   ]
  },
  {
   "cell_type": "code",
   "execution_count": null,
   "metadata": {},
   "outputs": [],
   "source": [
    "\"rossby rad (km)\", rossby_rad/1000"
   ]
  },
  {
   "cell_type": "code",
   "execution_count": 21,
   "metadata": {},
   "outputs": [],
   "source": [
    "def coriolis_param(mean_lat: float) -> float:\n",
    "    \"\"\"\n",
    "    Compute Coriolis parameter given the region mean latitude.\n",
    "    \"\"\"\n",
    "\n",
    "    # earth angular velocity (1/s)\n",
    "    earth_angvel = 7.29 * 1e-05\n",
    "    # coriolis parameter (1/s)\n",
    "    coriolis_param = 2 * earth_angvel * np.sin(mean_lat * np.pi / 180)\n",
    "    return coriolis_param"
   ]
  },
  {
   "cell_type": "code",
   "execution_count": 22,
   "metadata": {},
   "outputs": [],
   "source": [
    "# reminder\n",
    "omega = 1.0\n",
    "coriolis_parameter = coriolis_param(mean_lat)\n",
    "denominator = np.sqrt(omega**2 - coriolis_parameter**2)\n",
    "horizontal_wavelength = rossby_rad * (1/denominator)"
   ]
  },
  {
   "cell_type": "code",
   "execution_count": null,
   "metadata": {},
   "outputs": [],
   "source": [
    "\"horizontal wavelength (km)\", horizontal_wavelength/1000"
   ]
  },
  {
   "cell_type": "code",
   "execution_count": null,
   "metadata": {},
   "outputs": [],
   "source": [
    "plt.figure(1)\n",
    "plt.plot(vert_structfunc, - obm.depth)\n",
    "plt.title(\"Vertical Structure Function\")\n",
    "plt.ylabel(\"depth (m)\")\n",
    "plt.legend([\"barotropic mode\", \"mode 1\", \"mode 2\", \"mode 3\", \"mode 4\"])\n",
    "plt.show()\n",
    "plt.close()\n"
   ]
  }
 ],
 "metadata": {
  "kernelspec": {
   "display_name": "obm",
   "language": "python",
   "name": "python3"
  },
  "language_info": {
   "codemirror_mode": {
    "name": "ipython",
    "version": 3
   },
   "file_extension": ".py",
   "mimetype": "text/x-python",
   "name": "python",
   "nbconvert_exporter": "python",
   "pygments_lexer": "ipython3",
   "version": "3.11.7"
  }
 },
 "nbformat": 4,
 "nbformat_minor": 2
}
