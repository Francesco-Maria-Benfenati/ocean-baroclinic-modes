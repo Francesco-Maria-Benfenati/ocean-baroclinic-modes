{
 "cells": [
  {
   "cell_type": "code",
   "execution_count": 1,
   "metadata": {},
   "outputs": [],
   "source": [
    "import numpy as np\n",
    "import sys, os"
   ]
  },
  {
   "cell_type": "code",
   "execution_count": 2,
   "metadata": {},
   "outputs": [],
   "source": [
    "sys.path.append(\"..\")\n",
    "from qgbaroclinic import OceBaroclinicModes"
   ]
  },
  {
   "cell_type": "code",
   "execution_count": null,
   "metadata": {},
   "outputs": [],
   "source": [
    "\"\"\"\n",
    "Example for computing the MEAN baroclinic modes and rossby radii of a selected region.\n",
    "\"\"\""
   ]
  },
  {
   "cell_type": "code",
   "execution_count": 4,
   "metadata": {},
   "outputs": [],
   "source": [
    "# Define Ocean Baroclinic Modes object;\n",
    "# \"latitude\", \"longitude\" are the dimension names in OCEAN NetCDF file.\n",
    "obm = OceBaroclinicModes(longitude=[-160, -170], latitude=[40, 45])"
   ]
  },
  {
   "cell_type": "code",
   "execution_count": 7,
   "metadata": {},
   "outputs": [],
   "source": [
    "current_path = os.path.dirname(__vsc_ipynb_file__)\n",
    "path_to_my_data = os.path.join(current_path, \"../my_data/reanalysis\")\n",
    "# Extract OCEAN variables form NetCDF file.\n",
    "temp, sal, depth, lat = obm.read(\n",
    "    path_to_my_data,\n",
    "    \"thetao\",\n",
    "    \"so\",\n",
    "    \"depth\",\n",
    "    \"latitude\"\n",
    ")\n",
    "mean_lat = np.mean(lat.values)"
   ]
  },
  {
   "cell_type": "code",
   "execution_count": null,
   "metadata": {},
   "outputs": [],
   "source": [
    "mean_depth = 3000.0 # dummy mean depth of the region"
   ]
  },
  {
   "cell_type": "code",
   "execution_count": null,
   "metadata": {},
   "outputs": [],
   "source": [
    "print(f\"Region mean depth {mean_depth} m, region mean lat {mean_lat} °N\")"
   ]
  },
  {
   "cell_type": "code",
   "execution_count": null,
   "metadata": {},
   "outputs": [],
   "source": [
    "# Compute Potential Density.\n",
    "pot_density = obm.potential_density(temp, sal)\n",
    "mean_pot_density = np.nanmean(pot_density, axis = (0,2,3))"
   ]
  },
  {
   "cell_type": "code",
   "execution_count": 12,
   "metadata": {},
   "outputs": [],
   "source": [
    "# Compute Rossby Baroclinic Deformation Radii and Vertical Structure Function profile(s).\n",
    "rossby_rad, vert_structfunc = obm(mean_pot_density, depth.values, mean_lat, mean_depth)"
   ]
  },
  {
   "cell_type": "code",
   "execution_count": null,
   "metadata": {},
   "outputs": [],
   "source": [
    "# Print Rossby Radii values.\n",
    "print(f\"rossby rad (km) : {rossby_rad/1000}\")"
   ]
  },
  {
   "cell_type": "code",
   "execution_count": null,
   "metadata": {},
   "outputs": [],
   "source": [
    "# Plot Vertical Structure Function.\n",
    "obm.plot()"
   ]
  }
 ],
 "metadata": {
  "kernelspec": {
   "display_name": "obm",
   "language": "python",
   "name": "python3"
  },
  "language_info": {
   "codemirror_mode": {
    "name": "ipython",
    "version": 3
   },
   "file_extension": ".py",
   "mimetype": "text/x-python",
   "name": "python",
   "nbconvert_exporter": "python",
   "pygments_lexer": "ipython3",
   "version": "3.11.7"
  }
 },
 "nbformat": 4,
 "nbformat_minor": 2
}
