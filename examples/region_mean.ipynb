{
 "cells": [
  {
   "cell_type": "code",
   "execution_count": 13,
   "metadata": {},
   "outputs": [],
   "source": [
    "import numpy as np\n",
    "import sys, os"
   ]
  },
  {
   "cell_type": "code",
   "execution_count": 14,
   "metadata": {},
   "outputs": [],
   "source": [
    "sys.path.append(\"..\")\n",
    "from qgbaroclinic import OceBaroclinicModes"
   ]
  },
  {
   "cell_type": "code",
   "execution_count": null,
   "metadata": {},
   "outputs": [],
   "source": [
    "\"\"\"\n",
    "Example for computing the MEAN baroclinic modes and rossby radii of a selected region.\n",
    "\"\"\""
   ]
  },
  {
   "cell_type": "code",
   "execution_count": 17,
   "metadata": {},
   "outputs": [],
   "source": [
    "# Define Ocean Baroclinic Modes object;\n",
    "# \"latitude\", \"longitude\" are the dimension names in OCEAN NetCDF file.\n",
    "obm = OceBaroclinicModes(longitude=[-160, -170], latitude=[40, 45])"
   ]
  },
  {
   "cell_type": "code",
   "execution_count": 18,
   "metadata": {},
   "outputs": [],
   "source": [
    "# Extract OCEAN variables form NetCDF file.\n",
    "current_path = os.path.dirname(__vsc_ipynb_file__)\n",
    "temp, sal, depth, lat = obm.read(\n",
    "    os.path.join(current_path, \"../data_v0/reanalysis/\"),\n",
    "    \"thetao\",\n",
    "    \"so\",\n",
    "    \"depth\",\n",
    "    \"latitude\"\n",
    ")\n",
    "mean_lat = np.mean(lat.values)"
   ]
  },
  {
   "cell_type": "code",
   "execution_count": 19,
   "metadata": {},
   "outputs": [],
   "source": [
    "# Extract Bathymetry dataset and compute mean reagion depth;\n",
    "# \"lat\", \"lon\" are the dimension names in BATHYMETRY NetCDF file.\n",
    "elevation = obm.read(\n",
    "    os.path.join(current_path, \"../data_v0/bathymetry/GEBCO_2023.nc\"),\n",
    "    \"elevation\",\n",
    "    lat=obm.domain[\"latitude\"],\n",
    "    lon=obm.domain[\"longitude\"],\n",
    ")\n",
    "mean_depth = np.abs(np.nanmean(elevation))"
   ]
  },
  {
   "cell_type": "code",
   "execution_count": null,
   "metadata": {},
   "outputs": [],
   "source": [
    "print(f\"Region mean depth {mean_depth} m, region mean lat {mean_lat} °N\")"
   ]
  },
  {
   "cell_type": "code",
   "execution_count": null,
   "metadata": {},
   "outputs": [],
   "source": [
    "# Compute Potential Density.\n",
    "pot_density = obm.potential_density(temp, sal)\n",
    "mean_pot_density = np.nanmean(pot_density, axis = (0,2,3))"
   ]
  },
  {
   "cell_type": "code",
   "execution_count": 23,
   "metadata": {},
   "outputs": [],
   "source": [
    "# Compute Rossby Baroclinic Deformation Radii and Vertical Structure Function profile(s).\n",
    "rossby_rad, vert_structfunc = obm(mean_pot_density, depth.values, mean_lat, mean_depth)"
   ]
  },
  {
   "cell_type": "code",
   "execution_count": null,
   "metadata": {},
   "outputs": [],
   "source": [
    "# Print Rossby Radii values.\n",
    "print(f\"rossby rad (km) : {rossby_rad/1000}\")"
   ]
  },
  {
   "cell_type": "code",
   "execution_count": null,
   "metadata": {},
   "outputs": [],
   "source": [
    "# Plot Vertical Structure Function.\n",
    "obm.plot()"
   ]
  }
 ],
 "metadata": {
  "kernelspec": {
   "display_name": "obm",
   "language": "python",
   "name": "python3"
  },
  "language_info": {
   "codemirror_mode": {
    "name": "ipython",
    "version": 3
   },
   "file_extension": ".py",
   "mimetype": "text/x-python",
   "name": "python",
   "nbconvert_exporter": "python",
   "pygments_lexer": "ipython3",
   "version": "3.11.7"
  }
 },
 "nbformat": 4,
 "nbformat_minor": 2
}
