{
 "cells": [
  {
   "cell_type": "code",
   "execution_count": 2,
   "metadata": {},
   "outputs": [],
   "source": [
    "import numpy as np\n",
    "import sys, os\n",
    "\n",
    "sys.path.append(\"..\")\n",
    "from qgbaroclinic.model.ocebaroclinicmodes import OceBaroclinicModes"
   ]
  },
  {
   "cell_type": "code",
   "execution_count": 3,
   "metadata": {},
   "outputs": [],
   "source": [
    "# Define Ocean Baroclinic Modes object\n",
    "obm = OceBaroclinicModes()"
   ]
  },
  {
   "cell_type": "code",
   "execution_count": 4,
   "metadata": {},
   "outputs": [],
   "source": [
    "# Set region domain\n",
    "# NOTE: dimensions name \"x\", \"y\" can be defined by the user.\n",
    "obm.region(x=[-34, -30], y=[34.5, 50.2])"
   ]
  },
  {
   "cell_type": "code",
   "execution_count": 5,
   "metadata": {},
   "outputs": [],
   "source": [
    "# Extract OCEAN variables form NetCDF file.\n",
    "# NOTE: \"latitude\", \"longitude\" are the dimension names in NetCDF file.\n",
    "current_path = os.path.dirname(__vsc_ipynb_file__)\n",
    "temp, sal, depth, lat = obm.read(\n",
    "    os.path.join(current_path, \"../data/reanalysis/\"),\n",
    "    \"thetao\",\n",
    "    \"so\",\n",
    "    \"depth\",\n",
    "    \"latitude\",\n",
    "    longitude=obm.domain[\"x\"],\n",
    "    latitude=obm.domain[\"y\"],\n",
    ")"
   ]
  },
  {
   "cell_type": "code",
   "execution_count": 20,
   "metadata": {},
   "outputs": [],
   "source": [
    "# Extract Bathymetry dataset and compute mean reagion depth\n",
    "# NOTE: \"lat\", \"lon\" are the dimension names in NetCDF file.\n",
    "elevation = obm.read(\n",
    "    os.path.join(current_path, \"../data/bathymetry/GEBCO_2023.nc\"),\n",
    "    \"elevation\",\n",
    "    lat=obm.domain[\"y\"],\n",
    "    lon=obm.domain[\"x\"],\n",
    ")\n",
    "mean_depth = np.abs(np.nanmean(elevation))"
   ]
  },
  {
   "cell_type": "code",
   "execution_count": 31,
   "metadata": {},
   "outputs": [
    {
     "data": {
      "text/plain": [
       "('region mean depth', 3017.216260416178, numpy.float64)"
      ]
     },
     "execution_count": 31,
     "metadata": {},
     "output_type": "execute_result"
    }
   ],
   "source": [
    "\"region mean depth\", mean_depth, type(mean_depth)"
   ]
  },
  {
   "cell_type": "code",
   "execution_count": 23,
   "metadata": {},
   "outputs": [],
   "source": [
    "# Set mean depth as the bottom depth\n",
    "obm.bottomdepth(mean_depth)"
   ]
  },
  {
   "cell_type": "code",
   "execution_count": 30,
   "metadata": {},
   "outputs": [],
   "source": [
    "# Set model input variables\n",
    "obm.sawater_prop(temperature=temp.values, salinity=sal.values, insitu_temperature=False)"
   ]
  },
  {
   "cell_type": "code",
   "execution_count": 18,
   "metadata": {},
   "outputs": [
    {
     "ename": "TypingError",
     "evalue": "Failed in nopython mode pipeline (step: nopython frontend)\nnon-precise type pyobject\nDuring: typing of argument at /Users/francesco/physics/numerical_models/ocean-baroclinic-modes/examples/../qgbaroclinic/tool/eos.py (152)\n\nFile \"../qgbaroclinic/tool/eos.py\", line 152:\n    def depth2press(depth: float) -> float:\n        <source elided>\n\n    @staticmethod\n    ^ \n\nThis error may have been caused by the following argument(s):\n- argument 0: Cannot determine Numba type of <class 'xarray.core.variable.Variable'>\n- argument 1: Cannot determine Numba type of <class 'xarray.core.variable.Variable'> \n\nThis error may have been caused by the following argument(s):\n- argument 0: Cannot determine Numba type of <class 'xarray.core.variable.Variable'>\n- argument 1: Cannot determine Numba type of <class 'xarray.core.variable.Variable'>\n",
     "output_type": "error",
     "traceback": [
      "\u001b[0;31m---------------------------------------------------------------------------\u001b[0m",
      "\u001b[0;31mTypingError\u001b[0m                               Traceback (most recent call last)",
      "Cell \u001b[0;32mIn[18], line 2\u001b[0m\n\u001b[1;32m      1\u001b[0m \u001b[38;5;66;03m# Run model\u001b[39;00m\n\u001b[0;32m----> 2\u001b[0m obm\u001b[38;5;241m.\u001b[39mrun(n_modes\u001b[38;5;241m=\u001b[39m\u001b[38;5;241m3\u001b[39m)\n",
      "File \u001b[0;32m~/physics/numerical_models/ocean-baroclinic-modes/examples/../qgbaroclinic/model/ocebaroclinicmodes.py:94\u001b[0m, in \u001b[0;36mOceBaroclinicModes.run\u001b[0;34m(self, n_modes)\u001b[0m\n\u001b[1;32m     92\u001b[0m \u001b[38;5;28;01melse\u001b[39;00m:\n\u001b[1;32m     93\u001b[0m     pot_temperature \u001b[38;5;241m=\u001b[39m \u001b[38;5;28mself\u001b[39m\u001b[38;5;241m.\u001b[39mtemperature\n\u001b[0;32m---> 94\u001b[0m (pot_density, depth_levels) \u001b[38;5;241m=\u001b[39m OceBaroclinicModes\u001b[38;5;241m.\u001b[39mpot_density(\n\u001b[1;32m     95\u001b[0m     pot_temperature, \u001b[38;5;28mself\u001b[39m\u001b[38;5;241m.\u001b[39msalinity, depth, \u001b[38;5;28mself\u001b[39m\u001b[38;5;241m.\u001b[39mgrid_step, \u001b[38;5;28mself\u001b[39m\u001b[38;5;241m.\u001b[39mbottom_depth\n\u001b[1;32m     96\u001b[0m )\n\u001b[1;32m     97\u001b[0m pot_density \u001b[38;5;241m=\u001b[39m np\u001b[38;5;241m.\u001b[39mnanmean(pot_density, axis \u001b[38;5;241m=\u001b[39m (\u001b[38;5;241m0\u001b[39m,\u001b[38;5;241m1\u001b[39m,\u001b[38;5;241m2\u001b[39m))\n\u001b[1;32m     98\u001b[0m bv_freq \u001b[38;5;241m=\u001b[39m OceBaroclinicModes\u001b[38;5;241m.\u001b[39mcompute_bruntvaisala_freq(\n\u001b[1;32m     99\u001b[0m     depth_levels, pot_density, \u001b[38;5;28mself\u001b[39m\u001b[38;5;241m.\u001b[39mgrid_step\n\u001b[1;32m    100\u001b[0m )\n",
      "File \u001b[0;32m~/physics/numerical_models/ocean-baroclinic-modes/examples/../qgbaroclinic/model/ocebaroclinicmodes.py:127\u001b[0m, in \u001b[0;36mOceBaroclinicModes.pot_density\u001b[0;34m(pot_temperature, salinity, depth, grid_step, bottom_depth)\u001b[0m\n\u001b[1;32m    125\u001b[0m \u001b[38;5;28;01massert\u001b[39;00m pot_temperature\u001b[38;5;241m.\u001b[39mshape \u001b[38;5;241m==\u001b[39m salinity\u001b[38;5;241m.\u001b[39mshape\n\u001b[1;32m    126\u001b[0m ref_pressure \u001b[38;5;241m=\u001b[39m \u001b[38;5;241m0\u001b[39m  \u001b[38;5;66;03m# reference pressure [dbar]\u001b[39;00m\n\u001b[0;32m--> 127\u001b[0m pot_density \u001b[38;5;241m=\u001b[39m EoS\u001b[38;5;241m.\u001b[39mcompute_density(salinity, pot_temperature, ref_pressure)\n\u001b[1;32m    129\u001b[0m \u001b[38;5;66;03m# VERTICAL INTERPOLATION (default to 1m grid step)\u001b[39;00m\n\u001b[1;32m    130\u001b[0m interpolation \u001b[38;5;241m=\u001b[39m Interpolation(depth, pot_density)\n",
      "File \u001b[0;32m~/physics/numerical_models/ocean-baroclinic-modes/examples/../qgbaroclinic/tool/eos.py:63\u001b[0m, in \u001b[0;36mEoS.compute_density\u001b[0;34m(sal, pot_temp, ref_press)\u001b[0m\n\u001b[1;32m     53\u001b[0m ref_press \u001b[38;5;241m/\u001b[39m\u001b[38;5;241m=\u001b[39m \u001b[38;5;241m10\u001b[39m\n\u001b[1;32m     54\u001b[0m \u001b[38;5;66;03m# ==================================================================\u001b[39;00m\n\u001b[1;32m     55\u001b[0m \u001b[38;5;66;03m# Compute reference density at atmospheric pressure\u001b[39;00m\n\u001b[1;32m     56\u001b[0m \u001b[38;5;66;03m#\u001b[39;00m\n\u001b[0;32m   (...)\u001b[0m\n\u001b[1;32m     60\u001b[0m \u001b[38;5;66;03m# of seawater' (Millero and Poisson, 1981).\u001b[39;00m\n\u001b[1;32m     61\u001b[0m \u001b[38;5;66;03m# ==================================================================\u001b[39;00m\n\u001b[0;32m---> 63\u001b[0m rho \u001b[38;5;241m=\u001b[39m EoS\u001b[38;5;241m.\u001b[39m__compute_rho(sal, pot_temp)\n\u001b[1;32m     65\u001b[0m \u001b[38;5;66;03m# ==================================================================\u001b[39;00m\n\u001b[1;32m     66\u001b[0m \u001b[38;5;66;03m# Compute coefficients in the bulk modulus of seawater expression\u001b[39;00m\n\u001b[1;32m     67\u001b[0m \u001b[38;5;66;03m#\u001b[39;00m\n\u001b[0;32m   (...)\u001b[0m\n\u001b[1;32m     78\u001b[0m \n\u001b[1;32m     79\u001b[0m \u001b[38;5;66;03m# Bulk modulus of seawater at atmospheric pressure.\u001b[39;00m\n\u001b[1;32m     80\u001b[0m K_0 \u001b[38;5;241m=\u001b[39m EoS\u001b[38;5;241m.\u001b[39m__compute_K_0(sal, pot_temp)\n",
      "File \u001b[0;32m~/anaconda3/envs/obm/lib/python3.11/site-packages/numba/core/dispatcher.py:468\u001b[0m, in \u001b[0;36m_DispatcherBase._compile_for_args\u001b[0;34m(self, *args, **kws)\u001b[0m\n\u001b[1;32m    464\u001b[0m         msg \u001b[38;5;241m=\u001b[39m (\u001b[38;5;124mf\u001b[39m\u001b[38;5;124m\"\u001b[39m\u001b[38;5;132;01m{\u001b[39;00m\u001b[38;5;28mstr\u001b[39m(e)\u001b[38;5;241m.\u001b[39mrstrip()\u001b[38;5;132;01m}\u001b[39;00m\u001b[38;5;124m \u001b[39m\u001b[38;5;130;01m\\n\u001b[39;00m\u001b[38;5;130;01m\\n\u001b[39;00m\u001b[38;5;124mThis error may have been caused \u001b[39m\u001b[38;5;124m\"\u001b[39m\n\u001b[1;32m    465\u001b[0m                \u001b[38;5;124mf\u001b[39m\u001b[38;5;124m\"\u001b[39m\u001b[38;5;124mby the following argument(s):\u001b[39m\u001b[38;5;130;01m\\n\u001b[39;00m\u001b[38;5;132;01m{\u001b[39;00margs_str\u001b[38;5;132;01m}\u001b[39;00m\u001b[38;5;130;01m\\n\u001b[39;00m\u001b[38;5;124m\"\u001b[39m)\n\u001b[1;32m    466\u001b[0m         e\u001b[38;5;241m.\u001b[39mpatch_message(msg)\n\u001b[0;32m--> 468\u001b[0m     error_rewrite(e, \u001b[38;5;124m'\u001b[39m\u001b[38;5;124mtyping\u001b[39m\u001b[38;5;124m'\u001b[39m)\n\u001b[1;32m    469\u001b[0m \u001b[38;5;28;01mexcept\u001b[39;00m errors\u001b[38;5;241m.\u001b[39mUnsupportedError \u001b[38;5;28;01mas\u001b[39;00m e:\n\u001b[1;32m    470\u001b[0m     \u001b[38;5;66;03m# Something unsupported is present in the user code, add help info\u001b[39;00m\n\u001b[1;32m    471\u001b[0m     error_rewrite(e, \u001b[38;5;124m'\u001b[39m\u001b[38;5;124munsupported_error\u001b[39m\u001b[38;5;124m'\u001b[39m)\n",
      "File \u001b[0;32m~/anaconda3/envs/obm/lib/python3.11/site-packages/numba/core/dispatcher.py:409\u001b[0m, in \u001b[0;36m_DispatcherBase._compile_for_args.<locals>.error_rewrite\u001b[0;34m(e, issue_type)\u001b[0m\n\u001b[1;32m    407\u001b[0m     \u001b[38;5;28;01mraise\u001b[39;00m e\n\u001b[1;32m    408\u001b[0m \u001b[38;5;28;01melse\u001b[39;00m:\n\u001b[0;32m--> 409\u001b[0m     \u001b[38;5;28;01mraise\u001b[39;00m e\u001b[38;5;241m.\u001b[39mwith_traceback(\u001b[38;5;28;01mNone\u001b[39;00m)\n",
      "\u001b[0;31mTypingError\u001b[0m: Failed in nopython mode pipeline (step: nopython frontend)\nnon-precise type pyobject\nDuring: typing of argument at /Users/francesco/physics/numerical_models/ocean-baroclinic-modes/examples/../qgbaroclinic/tool/eos.py (152)\n\nFile \"../qgbaroclinic/tool/eos.py\", line 152:\n    def depth2press(depth: float) -> float:\n        <source elided>\n\n    @staticmethod\n    ^ \n\nThis error may have been caused by the following argument(s):\n- argument 0: Cannot determine Numba type of <class 'xarray.core.variable.Variable'>\n- argument 1: Cannot determine Numba type of <class 'xarray.core.variable.Variable'> \n\nThis error may have been caused by the following argument(s):\n- argument 0: Cannot determine Numba type of <class 'xarray.core.variable.Variable'>\n- argument 1: Cannot determine Numba type of <class 'xarray.core.variable.Variable'>\n"
     ]
    }
   ],
   "source": [
    "# Run model\n",
    "obm.run(n_modes=3)"
   ]
  },
  {
   "cell_type": "code",
   "execution_count": null,
   "metadata": {},
   "outputs": [],
   "source": [
    "# The output result is stored as attributes\n",
    "rossby_rad = obm.rossby_rad\n",
    "vert_structfunc = obm.vert_structfunc\n",
    "print(rossby_rad)"
   ]
  }
 ],
 "metadata": {
  "kernelspec": {
   "display_name": "Python 3 (ipykernel)",
   "language": "python",
   "name": "python3"
  },
  "language_info": {
   "codemirror_mode": {
    "name": "ipython",
    "version": 3
   },
   "file_extension": ".py",
   "mimetype": "text/x-python",
   "name": "python",
   "nbconvert_exporter": "python",
   "pygments_lexer": "ipython3",
   "version": "3.11.5"
  }
 },
 "nbformat": 4,
 "nbformat_minor": 2
}
