{
 "cells": [
  {
   "cell_type": "code",
   "execution_count": 13,
   "metadata": {},
   "outputs": [],
   "source": [
    "import numpy as np\n",
    "import sys, os"
   ]
  },
  {
   "cell_type": "code",
   "execution_count": 14,
   "metadata": {},
   "outputs": [],
   "source": [
    "sys.path.append(\"..\")\n",
    "from qgbaroclinic import OceBaroclinicModes\n",
    "from qgbaroclinic.plot import PlotMap"
   ]
  },
  {
   "cell_type": "code",
   "execution_count": null,
   "metadata": {},
   "outputs": [],
   "source": [
    "\"\"\"\n",
    "Example for computing the MAP of rossby radii in a selected region.\n",
    "\"\"\""
   ]
  },
  {
   "cell_type": "code",
   "execution_count": null,
   "metadata": {},
   "outputs": [],
   "source": [
    "# Define Ocean Baroclinic Modes object;\n",
    "# \"latitude\", \"longitude\" are the dimension names in OCEAN NetCDF file.\n",
    "obm = OceBaroclinicModes(longitude=[-30, -29], latitude=[40, 41])"
   ]
  },
  {
   "cell_type": "code",
   "execution_count": null,
   "metadata": {},
   "outputs": [],
   "source": [
    "current_path = os.path.dirname(__vsc_ipynb_file__)\n",
    "path_to_my_data = os.path.join(current_path, \"../my_data/reanalysis\")\n",
    "# Extract OCEAN variables form NetCDF file.\n",
    "temp, sal, depth, lat , lon = obm.read(\n",
    "    path_to_my_data,\n",
    "    \"thetao\",\n",
    "    \"so\",\n",
    "    \"depth\",\n",
    "    \"latitude\",\n",
    "    \"longitude\",\n",
    ")"
   ]
  },
  {
   "cell_type": "code",
   "execution_count": null,
   "metadata": {},
   "outputs": [],
   "source": [
    "# Compute Potential Density and average in time.\n",
    "pot_density = obm.potential_density(temp, sal)\n",
    "mean_pot_density = np.nanmean(pot_density, axis = 0)"
   ]
  },
  {
   "cell_type": "code",
   "execution_count": null,
   "metadata": {},
   "outputs": [],
   "source": [
    "elevation = np.ones_like(mean_pot_density) * 3000 # dummy elevation"
   ]
  },
  {
   "cell_type": "code",
   "execution_count": null,
   "metadata": {},
   "outputs": [],
   "source": [
    "n_modes = 3\n",
    "lat_size, lon_size = mean_pot_density.shape[1:]\n",
    "rossby_rad = np.empty([lat_size, lon_size, n_modes])"
   ]
  },
  {
   "cell_type": "code",
   "execution_count": null,
   "metadata": {},
   "outputs": [],
   "source": [
    "# Compute Rossby Baroclinic Deformation Radii.\n",
    "for i in range(lat_size):\n",
    "    print(f\"Processing row {i}/{lat_size}\")\n",
    "    for j in range(lon_size):\n",
    "        try:\n",
    "            rossby_rad[i,j,:], _ = obm(mean_pot_density[:,i,j], depth.values, lat[i].values, elevation[i,j])\n",
    "        except ValueError:\n",
    "            pass"
   ]
  },
  {
   "cell_type": "code",
   "execution_count": null,
   "metadata": {},
   "outputs": [],
   "source": [
    "# Plot and compare with Chelton (1998)\n",
    "pm = PlotMap([-30, -28], [40, 42], \".\")\n",
    "pm.make_plot(rossby_rad[:,:,1]/1000,lon, lat, \"2d_map_example\", offset=0.0)\n",
    "pm.plot_chelton_map()"
   ]
  },
  {
   "cell_type": "code",
   "execution_count": null,
   "metadata": {},
   "outputs": [],
   "source": [
    "\"\"\"\n",
    "NOTE: the results are different from Chelton (1998) since we are using a dummy bathymetry.\n",
    "\"\"\""
   ]
  }
 ],
 "metadata": {
  "kernelspec": {
   "display_name": "obm",
   "language": "python",
   "name": "python3"
  },
  "language_info": {
   "codemirror_mode": {
    "name": "ipython",
    "version": 3
   },
   "file_extension": ".py",
   "mimetype": "text/x-python",
   "name": "python",
   "nbconvert_exporter": "python",
   "pygments_lexer": "ipython3",
   "version": "3.11.7"
  }
 },
 "nbformat": 4,
 "nbformat_minor": 2
}
