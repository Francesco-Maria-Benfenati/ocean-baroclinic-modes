{
 "cells": [
  {
   "cell_type": "code",
   "execution_count": 3,
   "metadata": {},
   "outputs": [],
   "source": [
    "import numpy as np\n",
    "import sys, os"
   ]
  },
  {
   "cell_type": "code",
   "execution_count": 4,
   "metadata": {},
   "outputs": [],
   "source": [
    "sys.path.append(\"..\")\n",
    "from qgbaroclinic import OceBaroclinicModes\n",
    "from qgbaroclinic.plot import PlotMap"
   ]
  },
  {
   "cell_type": "code",
   "execution_count": null,
   "metadata": {},
   "outputs": [],
   "source": [
    "\"\"\"\n",
    "Example for computing the MAP of rossby radii in a selected region.\n",
    "\"\"\""
   ]
  },
  {
   "cell_type": "code",
   "execution_count": 6,
   "metadata": {},
   "outputs": [],
   "source": [
    "# Define Ocean Baroclinic Modes object;\n",
    "# \"latitude\", \"longitude\" are the dimension names in OCEAN NetCDF file.\n",
    "obm = OceBaroclinicModes(longitude=[-30, -28], latitude=[40, 42])"
   ]
  },
  {
   "cell_type": "code",
   "execution_count": 7,
   "metadata": {},
   "outputs": [],
   "source": [
    "# Extract OCEAN variables form NetCDF file.\n",
    "current_path = os.path.dirname(__vsc_ipynb_file__)\n",
    "temp, sal, depth, lat , lon = obm.read(\n",
    "    os.path.join(current_path, \"../data/azores_Jan2021.nc\"),\n",
    "    \"thetao\",\n",
    "    \"so\",\n",
    "    \"depth\",\n",
    "    \"latitude\",\n",
    "    \"longitude\",\n",
    ")"
   ]
  },
  {
   "cell_type": "code",
   "execution_count": null,
   "metadata": {},
   "outputs": [],
   "source": [
    "elevation = np.ones_like(temp) * 3000 # dummy elevation"
   ]
  },
  {
   "cell_type": "code",
   "execution_count": 10,
   "metadata": {},
   "outputs": [],
   "source": [
    "# Compute Potential Density and average in time.\n",
    "pot_density = obm.potential_density(temp, sal)\n",
    "mean_pot_density = np.mean(pot_density, axis = 0)"
   ]
  },
  {
   "cell_type": "code",
   "execution_count": 11,
   "metadata": {},
   "outputs": [],
   "source": [
    "n_modes = 3\n",
    "lat_size, lon_size = mean_pot_density.shape[1:]\n",
    "rossby_rad = np.empty([lat_size, lon_size, n_modes])"
   ]
  },
  {
   "cell_type": "code",
   "execution_count": null,
   "metadata": {},
   "outputs": [],
   "source": [
    "# Compute Rossby Baroclinic Deformation Radii.\n",
    "for i in range(lat_size):\n",
    "    for j in range(lon_size):\n",
    "        try:\n",
    "            rossby_rad[i,j,:], _ = obm(mean_pot_density[:,i,j].values, depth.values, lat[i].values, elevation[i,j])\n",
    "        except ValueError:\n",
    "            pass"
   ]
  },
  {
   "cell_type": "code",
   "execution_count": 3,
   "metadata": {},
   "outputs": [],
   "source": [
    "# Plot and compare with Chelton (1998)\n",
    "pm = PlotMap([-30, -28], [40, 42], \".\")\n",
    "pm.make_plot(rossby_rad[:,:,1]/1000,lon, lat, \"2d_map_example\")\n",
    "pm.plot_chelton_map()"
   ]
  }
 ],
 "metadata": {
  "kernelspec": {
   "display_name": "obm",
   "language": "python",
   "name": "python3"
  },
  "language_info": {
   "codemirror_mode": {
    "name": "ipython",
    "version": 3
   },
   "file_extension": ".py",
   "mimetype": "text/x-python",
   "name": "python",
   "nbconvert_exporter": "python",
   "pygments_lexer": "ipython3",
   "version": "3.11.7"
  }
 },
 "nbformat": 4,
 "nbformat_minor": 2
}
